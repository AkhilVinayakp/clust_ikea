{
 "cells": [
  {
   "cell_type": "code",
   "execution_count": 1,
   "metadata": {},
   "outputs": [],
   "source": [
    "import numpy as np\n",
    "import pandas as pd"
   ]
  },
  {
   "cell_type": "code",
   "execution_count": 2,
   "metadata": {},
   "outputs": [],
   "source": [
    "df = pd.read_csv(\"cleaned_ikea.csv\")"
   ]
  },
  {
   "cell_type": "code",
   "execution_count": 3,
   "metadata": {},
   "outputs": [
    {
     "data": {
      "text/html": [
       "<div>\n",
       "<style scoped>\n",
       "    .dataframe tbody tr th:only-of-type {\n",
       "        vertical-align: middle;\n",
       "    }\n",
       "\n",
       "    .dataframe tbody tr th {\n",
       "        vertical-align: top;\n",
       "    }\n",
       "\n",
       "    .dataframe thead th {\n",
       "        text-align: right;\n",
       "    }\n",
       "</style>\n",
       "<table border=\"1\" class=\"dataframe\">\n",
       "  <thead>\n",
       "    <tr style=\"text-align: right;\">\n",
       "      <th></th>\n",
       "      <th>Kommun_code</th>\n",
       "      <th>Year</th>\n",
       "      <th>Kommun_name</th>\n",
       "      <th>Revenue</th>\n",
       "      <th>Employee</th>\n",
       "      <th>Population</th>\n",
       "      <th>Population_University</th>\n",
       "      <th>Percent_University</th>\n",
       "      <th>Productivity</th>\n",
       "      <th>SalesIndex</th>\n",
       "      <th>Infrast</th>\n",
       "      <th>Border</th>\n",
       "      <th>Has_Ikea</th>\n",
       "    </tr>\n",
       "  </thead>\n",
       "  <tbody>\n",
       "    <tr>\n",
       "      <th>0</th>\n",
       "      <td>2583</td>\n",
       "      <td>2010</td>\n",
       "      <td>\"Haparanda\"</td>\n",
       "      <td>1078</td>\n",
       "      <td>276</td>\n",
       "      <td>10059</td>\n",
       "      <td>719</td>\n",
       "      <td>0.071478</td>\n",
       "      <td>195.74174</td>\n",
       "      <td>111.075774</td>\n",
       "      <td>0</td>\n",
       "      <td>1</td>\n",
       "      <td>1</td>\n",
       "    </tr>\n",
       "    <tr>\n",
       "      <th>1</th>\n",
       "      <td>880</td>\n",
       "      <td>2010</td>\n",
       "      <td>\"Kalmar\"</td>\n",
       "      <td>3790</td>\n",
       "      <td>1621</td>\n",
       "      <td>62815</td>\n",
       "      <td>8716</td>\n",
       "      <td>0.138757</td>\n",
       "      <td>117.17365</td>\n",
       "      <td>390.516869</td>\n",
       "      <td>0</td>\n",
       "      <td>0</td>\n",
       "      <td>1</td>\n",
       "    </tr>\n",
       "    <tr>\n",
       "      <th>2</th>\n",
       "      <td>1780</td>\n",
       "      <td>2010</td>\n",
       "      <td>\"Karlstad\"</td>\n",
       "      <td>4560</td>\n",
       "      <td>1910</td>\n",
       "      <td>85753</td>\n",
       "      <td>13308</td>\n",
       "      <td>0.155190</td>\n",
       "      <td>119.64794</td>\n",
       "      <td>469.856708</td>\n",
       "      <td>0</td>\n",
       "      <td>0</td>\n",
       "      <td>1</td>\n",
       "    </tr>\n",
       "    <tr>\n",
       "      <th>3</th>\n",
       "      <td>114</td>\n",
       "      <td>2010</td>\n",
       "      <td>\"Upplands Väsby\"</td>\n",
       "      <td>1366</td>\n",
       "      <td>708</td>\n",
       "      <td>39289</td>\n",
       "      <td>4419</td>\n",
       "      <td>0.112474</td>\n",
       "      <td>96.69215</td>\n",
       "      <td>140.750935</td>\n",
       "      <td>0</td>\n",
       "      <td>0</td>\n",
       "      <td>0</td>\n",
       "    </tr>\n",
       "    <tr>\n",
       "      <th>4</th>\n",
       "      <td>115</td>\n",
       "      <td>2010</td>\n",
       "      <td>\"Vallentuna\"</td>\n",
       "      <td>171</td>\n",
       "      <td>99</td>\n",
       "      <td>30114</td>\n",
       "      <td>3843</td>\n",
       "      <td>0.127615</td>\n",
       "      <td>86.56347</td>\n",
       "      <td>17.619627</td>\n",
       "      <td>0</td>\n",
       "      <td>0</td>\n",
       "      <td>0</td>\n",
       "    </tr>\n",
       "    <tr>\n",
       "      <th>...</th>\n",
       "      <td>...</td>\n",
       "      <td>...</td>\n",
       "      <td>...</td>\n",
       "      <td>...</td>\n",
       "      <td>...</td>\n",
       "      <td>...</td>\n",
       "      <td>...</td>\n",
       "      <td>...</td>\n",
       "      <td>...</td>\n",
       "      <td>...</td>\n",
       "      <td>...</td>\n",
       "      <td>...</td>\n",
       "      <td>...</td>\n",
       "    </tr>\n",
       "    <tr>\n",
       "      <th>202</th>\n",
       "      <td>1863</td>\n",
       "      <td>2010</td>\n",
       "      <td>\"Hällefors\"</td>\n",
       "      <td>52</td>\n",
       "      <td>33</td>\n",
       "      <td>7220</td>\n",
       "      <td>368</td>\n",
       "      <td>0.050970</td>\n",
       "      <td>78.97019</td>\n",
       "      <td>5.358015</td>\n",
       "      <td>0</td>\n",
       "      <td>0</td>\n",
       "      <td>0</td>\n",
       "    </tr>\n",
       "    <tr>\n",
       "      <th>203</th>\n",
       "      <td>1864</td>\n",
       "      <td>2010</td>\n",
       "      <td>\"Ljusnarsberg\"</td>\n",
       "      <td>51</td>\n",
       "      <td>24</td>\n",
       "      <td>4931</td>\n",
       "      <td>266</td>\n",
       "      <td>0.053944</td>\n",
       "      <td>106.49585</td>\n",
       "      <td>5.254976</td>\n",
       "      <td>0</td>\n",
       "      <td>0</td>\n",
       "      <td>0</td>\n",
       "    </tr>\n",
       "    <tr>\n",
       "      <th>204</th>\n",
       "      <td>1880</td>\n",
       "      <td>2010</td>\n",
       "      <td>\"Örebro\"</td>\n",
       "      <td>6228</td>\n",
       "      <td>2995</td>\n",
       "      <td>135460</td>\n",
       "      <td>19516</td>\n",
       "      <td>0.144072</td>\n",
       "      <td>104.21387</td>\n",
       "      <td>641.725346</td>\n",
       "      <td>0</td>\n",
       "      <td>0</td>\n",
       "      <td>1</td>\n",
       "    </tr>\n",
       "    <tr>\n",
       "      <th>205</th>\n",
       "      <td>1881</td>\n",
       "      <td>2010</td>\n",
       "      <td>\"Kumla\"</td>\n",
       "      <td>152</td>\n",
       "      <td>98</td>\n",
       "      <td>20456</td>\n",
       "      <td>1598</td>\n",
       "      <td>0.078119</td>\n",
       "      <td>77.73047</td>\n",
       "      <td>15.661890</td>\n",
       "      <td>0</td>\n",
       "      <td>0</td>\n",
       "      <td>0</td>\n",
       "    </tr>\n",
       "    <tr>\n",
       "      <th>206</th>\n",
       "      <td>1882</td>\n",
       "      <td>2010</td>\n",
       "      <td>\"Askersund\"</td>\n",
       "      <td>126</td>\n",
       "      <td>65</td>\n",
       "      <td>11278</td>\n",
       "      <td>809</td>\n",
       "      <td>0.071733</td>\n",
       "      <td>97.14735</td>\n",
       "      <td>12.982883</td>\n",
       "      <td>0</td>\n",
       "      <td>0</td>\n",
       "      <td>0</td>\n",
       "    </tr>\n",
       "  </tbody>\n",
       "</table>\n",
       "<p>207 rows × 13 columns</p>\n",
       "</div>"
      ],
      "text/plain": [
       "     Kommun_code  Year       Kommun_name  Revenue  Employee  Population  \\\n",
       "0           2583  2010       \"Haparanda\"     1078       276       10059   \n",
       "1            880  2010          \"Kalmar\"     3790      1621       62815   \n",
       "2           1780  2010        \"Karlstad\"     4560      1910       85753   \n",
       "3            114  2010  \"Upplands Väsby\"     1366       708       39289   \n",
       "4            115  2010      \"Vallentuna\"      171        99       30114   \n",
       "..           ...   ...               ...      ...       ...         ...   \n",
       "202         1863  2010       \"Hällefors\"       52        33        7220   \n",
       "203         1864  2010    \"Ljusnarsberg\"       51        24        4931   \n",
       "204         1880  2010          \"Örebro\"     6228      2995      135460   \n",
       "205         1881  2010           \"Kumla\"      152        98       20456   \n",
       "206         1882  2010       \"Askersund\"      126        65       11278   \n",
       "\n",
       "     Population_University  Percent_University  Productivity  SalesIndex  \\\n",
       "0                      719            0.071478     195.74174  111.075774   \n",
       "1                     8716            0.138757     117.17365  390.516869   \n",
       "2                    13308            0.155190     119.64794  469.856708   \n",
       "3                     4419            0.112474      96.69215  140.750935   \n",
       "4                     3843            0.127615      86.56347   17.619627   \n",
       "..                     ...                 ...           ...         ...   \n",
       "202                    368            0.050970      78.97019    5.358015   \n",
       "203                    266            0.053944     106.49585    5.254976   \n",
       "204                  19516            0.144072     104.21387  641.725346   \n",
       "205                   1598            0.078119      77.73047   15.661890   \n",
       "206                    809            0.071733      97.14735   12.982883   \n",
       "\n",
       "     Infrast  Border  Has_Ikea  \n",
       "0          0       1         1  \n",
       "1          0       0         1  \n",
       "2          0       0         1  \n",
       "3          0       0         0  \n",
       "4          0       0         0  \n",
       "..       ...     ...       ...  \n",
       "202        0       0         0  \n",
       "203        0       0         0  \n",
       "204        0       0         1  \n",
       "205        0       0         0  \n",
       "206        0       0         0  \n",
       "\n",
       "[207 rows x 13 columns]"
      ]
     },
     "execution_count": 3,
     "metadata": {},
     "output_type": "execute_result"
    }
   ],
   "source": [
    "df"
   ]
  },
  {
   "cell_type": "code",
   "execution_count": 5,
   "metadata": {},
   "outputs": [
    {
     "data": {
      "text/html": [
       "<div>\n",
       "<style scoped>\n",
       "    .dataframe tbody tr th:only-of-type {\n",
       "        vertical-align: middle;\n",
       "    }\n",
       "\n",
       "    .dataframe tbody tr th {\n",
       "        vertical-align: top;\n",
       "    }\n",
       "\n",
       "    .dataframe thead th {\n",
       "        text-align: right;\n",
       "    }\n",
       "</style>\n",
       "<table border=\"1\" class=\"dataframe\">\n",
       "  <thead>\n",
       "    <tr style=\"text-align: right;\">\n",
       "      <th></th>\n",
       "      <th>Kommun_code</th>\n",
       "      <th>Year</th>\n",
       "      <th>Revenue</th>\n",
       "      <th>Employee</th>\n",
       "      <th>Population</th>\n",
       "      <th>Population_University</th>\n",
       "      <th>Percent_University</th>\n",
       "      <th>Productivity</th>\n",
       "      <th>SalesIndex</th>\n",
       "      <th>Infrast</th>\n",
       "      <th>Border</th>\n",
       "    </tr>\n",
       "  </thead>\n",
       "  <tbody>\n",
       "    <tr>\n",
       "      <th>count</th>\n",
       "      <td>207.000000</td>\n",
       "      <td>207.0</td>\n",
       "      <td>207.000000</td>\n",
       "      <td>207.000000</td>\n",
       "      <td>207.000000</td>\n",
       "      <td>207.000000</td>\n",
       "      <td>207.000000</td>\n",
       "      <td>207.000000</td>\n",
       "      <td>207.000000</td>\n",
       "      <td>207.000000</td>\n",
       "      <td>207.000000</td>\n",
       "    </tr>\n",
       "    <tr>\n",
       "      <th>mean</th>\n",
       "      <td>1049.734300</td>\n",
       "      <td>2010.0</td>\n",
       "      <td>1031.801932</td>\n",
       "      <td>523.038647</td>\n",
       "      <td>34543.396135</td>\n",
       "      <td>4660.106280</td>\n",
       "      <td>0.097461</td>\n",
       "      <td>91.454002</td>\n",
       "      <td>106.315583</td>\n",
       "      <td>0.048309</td>\n",
       "      <td>0.038647</td>\n",
       "    </tr>\n",
       "    <tr>\n",
       "      <th>std</th>\n",
       "      <td>541.065455</td>\n",
       "      <td>0.0</td>\n",
       "      <td>2694.889549</td>\n",
       "      <td>1463.194427</td>\n",
       "      <td>66882.499740</td>\n",
       "      <td>14403.495784</td>\n",
       "      <td>0.040760</td>\n",
       "      <td>27.960867</td>\n",
       "      <td>277.678055</td>\n",
       "      <td>0.214939</td>\n",
       "      <td>0.193220</td>\n",
       "    </tr>\n",
       "    <tr>\n",
       "      <th>min</th>\n",
       "      <td>114.000000</td>\n",
       "      <td>2010.0</td>\n",
       "      <td>11.000000</td>\n",
       "      <td>2.000000</td>\n",
       "      <td>3672.000000</td>\n",
       "      <td>174.000000</td>\n",
       "      <td>0.046142</td>\n",
       "      <td>19.898880</td>\n",
       "      <td>1.133426</td>\n",
       "      <td>0.000000</td>\n",
       "      <td>0.000000</td>\n",
       "    </tr>\n",
       "    <tr>\n",
       "      <th>25%</th>\n",
       "      <td>582.500000</td>\n",
       "      <td>2010.0</td>\n",
       "      <td>110.000000</td>\n",
       "      <td>64.500000</td>\n",
       "      <td>10785.500000</td>\n",
       "      <td>788.500000</td>\n",
       "      <td>0.069015</td>\n",
       "      <td>74.700910</td>\n",
       "      <td>11.334262</td>\n",
       "      <td>0.000000</td>\n",
       "      <td>0.000000</td>\n",
       "    </tr>\n",
       "    <tr>\n",
       "      <th>50%</th>\n",
       "      <td>1263.000000</td>\n",
       "      <td>2010.0</td>\n",
       "      <td>252.000000</td>\n",
       "      <td>142.000000</td>\n",
       "      <td>16515.000000</td>\n",
       "      <td>1598.000000</td>\n",
       "      <td>0.086601</td>\n",
       "      <td>90.457050</td>\n",
       "      <td>25.965765</td>\n",
       "      <td>0.000000</td>\n",
       "      <td>0.000000</td>\n",
       "    </tr>\n",
       "    <tr>\n",
       "      <th>75%</th>\n",
       "      <td>1461.500000</td>\n",
       "      <td>2010.0</td>\n",
       "      <td>825.500000</td>\n",
       "      <td>435.000000</td>\n",
       "      <td>37922.000000</td>\n",
       "      <td>4073.500000</td>\n",
       "      <td>0.112085</td>\n",
       "      <td>104.008805</td>\n",
       "      <td>85.058490</td>\n",
       "      <td>0.000000</td>\n",
       "      <td>0.000000</td>\n",
       "    </tr>\n",
       "    <tr>\n",
       "      <th>max</th>\n",
       "      <td>2583.000000</td>\n",
       "      <td>2010.0</td>\n",
       "      <td>32897.000000</td>\n",
       "      <td>18795.000000</td>\n",
       "      <td>847073.000000</td>\n",
       "      <td>191585.000000</td>\n",
       "      <td>0.269646</td>\n",
       "      <td>275.636330</td>\n",
       "      <td>3389.665819</td>\n",
       "      <td>1.000000</td>\n",
       "      <td>1.000000</td>\n",
       "    </tr>\n",
       "  </tbody>\n",
       "</table>\n",
       "</div>"
      ],
      "text/plain": [
       "       Kommun_code    Year       Revenue      Employee     Population  \\\n",
       "count   207.000000   207.0    207.000000    207.000000     207.000000   \n",
       "mean   1049.734300  2010.0   1031.801932    523.038647   34543.396135   \n",
       "std     541.065455     0.0   2694.889549   1463.194427   66882.499740   \n",
       "min     114.000000  2010.0     11.000000      2.000000    3672.000000   \n",
       "25%     582.500000  2010.0    110.000000     64.500000   10785.500000   \n",
       "50%    1263.000000  2010.0    252.000000    142.000000   16515.000000   \n",
       "75%    1461.500000  2010.0    825.500000    435.000000   37922.000000   \n",
       "max    2583.000000  2010.0  32897.000000  18795.000000  847073.000000   \n",
       "\n",
       "       Population_University  Percent_University  Productivity   SalesIndex  \\\n",
       "count             207.000000          207.000000    207.000000   207.000000   \n",
       "mean             4660.106280            0.097461     91.454002   106.315583   \n",
       "std             14403.495784            0.040760     27.960867   277.678055   \n",
       "min               174.000000            0.046142     19.898880     1.133426   \n",
       "25%               788.500000            0.069015     74.700910    11.334262   \n",
       "50%              1598.000000            0.086601     90.457050    25.965765   \n",
       "75%              4073.500000            0.112085    104.008805    85.058490   \n",
       "max            191585.000000            0.269646    275.636330  3389.665819   \n",
       "\n",
       "          Infrast      Border  \n",
       "count  207.000000  207.000000  \n",
       "mean     0.048309    0.038647  \n",
       "std      0.214939    0.193220  \n",
       "min      0.000000    0.000000  \n",
       "25%      0.000000    0.000000  \n",
       "50%      0.000000    0.000000  \n",
       "75%      0.000000    0.000000  \n",
       "max      1.000000    1.000000  "
      ]
     },
     "execution_count": 5,
     "metadata": {},
     "output_type": "execute_result"
    }
   ],
   "source": [
    "df.describe()"
   ]
  },
  {
   "cell_type": "code",
   "execution_count": 6,
   "metadata": {},
   "outputs": [
    {
     "data": {
      "text/plain": [
       "Kommun_code                int64\n",
       "Year                       int64\n",
       "Kommun_name               object\n",
       "Revenue                    int64\n",
       "Employee                   int64\n",
       "Population                 int64\n",
       "Population_University      int64\n",
       "Percent_University       float64\n",
       "Productivity             float64\n",
       "SalesIndex               float64\n",
       "Infrast                    int64\n",
       "Border                     int64\n",
       "dtype: object"
      ]
     },
     "execution_count": 6,
     "metadata": {},
     "output_type": "execute_result"
    }
   ],
   "source": [
    "df.dtypes"
   ]
  },
  {
   "cell_type": "code",
   "execution_count": 7,
   "metadata": {},
   "outputs": [
    {
     "data": {
      "text/plain": [
       "array([1, 0], dtype=int64)"
      ]
     },
     "execution_count": 7,
     "metadata": {},
     "output_type": "execute_result"
    }
   ],
   "source": [
    "df[\"Border\"].unique()"
   ]
  },
  {
   "cell_type": "code",
   "execution_count": 5,
   "metadata": {},
   "outputs": [],
   "source": [
    "ext_df = df[[ \"Revenue\", \"Employee\" ,\"Population\" ,\"Population_University\", \"Percent_University\" ,\"Productivity\",\"SalesIndex\"]]"
   ]
  },
  {
   "cell_type": "code",
   "execution_count": 6,
   "metadata": {},
   "outputs": [],
   "source": [
    "has_ikea = df['Has_Ikea'].values"
   ]
  },
  {
   "cell_type": "code",
   "execution_count": 7,
   "metadata": {},
   "outputs": [
    {
     "data": {
      "text/html": [
       "<div>\n",
       "<style scoped>\n",
       "    .dataframe tbody tr th:only-of-type {\n",
       "        vertical-align: middle;\n",
       "    }\n",
       "\n",
       "    .dataframe tbody tr th {\n",
       "        vertical-align: top;\n",
       "    }\n",
       "\n",
       "    .dataframe thead th {\n",
       "        text-align: right;\n",
       "    }\n",
       "</style>\n",
       "<table border=\"1\" class=\"dataframe\">\n",
       "  <thead>\n",
       "    <tr style=\"text-align: right;\">\n",
       "      <th></th>\n",
       "      <th>Revenue</th>\n",
       "      <th>Employee</th>\n",
       "      <th>Population</th>\n",
       "      <th>Population_University</th>\n",
       "      <th>Percent_University</th>\n",
       "      <th>Productivity</th>\n",
       "      <th>SalesIndex</th>\n",
       "    </tr>\n",
       "  </thead>\n",
       "  <tbody>\n",
       "    <tr>\n",
       "      <th>0</th>\n",
       "      <td>1078</td>\n",
       "      <td>276</td>\n",
       "      <td>10059</td>\n",
       "      <td>719</td>\n",
       "      <td>0.071478</td>\n",
       "      <td>195.74174</td>\n",
       "      <td>111.075774</td>\n",
       "    </tr>\n",
       "    <tr>\n",
       "      <th>1</th>\n",
       "      <td>3790</td>\n",
       "      <td>1621</td>\n",
       "      <td>62815</td>\n",
       "      <td>8716</td>\n",
       "      <td>0.138757</td>\n",
       "      <td>117.17365</td>\n",
       "      <td>390.516869</td>\n",
       "    </tr>\n",
       "    <tr>\n",
       "      <th>2</th>\n",
       "      <td>4560</td>\n",
       "      <td>1910</td>\n",
       "      <td>85753</td>\n",
       "      <td>13308</td>\n",
       "      <td>0.155190</td>\n",
       "      <td>119.64794</td>\n",
       "      <td>469.856708</td>\n",
       "    </tr>\n",
       "    <tr>\n",
       "      <th>3</th>\n",
       "      <td>1366</td>\n",
       "      <td>708</td>\n",
       "      <td>39289</td>\n",
       "      <td>4419</td>\n",
       "      <td>0.112474</td>\n",
       "      <td>96.69215</td>\n",
       "      <td>140.750935</td>\n",
       "    </tr>\n",
       "    <tr>\n",
       "      <th>4</th>\n",
       "      <td>171</td>\n",
       "      <td>99</td>\n",
       "      <td>30114</td>\n",
       "      <td>3843</td>\n",
       "      <td>0.127615</td>\n",
       "      <td>86.56347</td>\n",
       "      <td>17.619627</td>\n",
       "    </tr>\n",
       "    <tr>\n",
       "      <th>...</th>\n",
       "      <td>...</td>\n",
       "      <td>...</td>\n",
       "      <td>...</td>\n",
       "      <td>...</td>\n",
       "      <td>...</td>\n",
       "      <td>...</td>\n",
       "      <td>...</td>\n",
       "    </tr>\n",
       "    <tr>\n",
       "      <th>202</th>\n",
       "      <td>52</td>\n",
       "      <td>33</td>\n",
       "      <td>7220</td>\n",
       "      <td>368</td>\n",
       "      <td>0.050970</td>\n",
       "      <td>78.97019</td>\n",
       "      <td>5.358015</td>\n",
       "    </tr>\n",
       "    <tr>\n",
       "      <th>203</th>\n",
       "      <td>51</td>\n",
       "      <td>24</td>\n",
       "      <td>4931</td>\n",
       "      <td>266</td>\n",
       "      <td>0.053944</td>\n",
       "      <td>106.49585</td>\n",
       "      <td>5.254976</td>\n",
       "    </tr>\n",
       "    <tr>\n",
       "      <th>204</th>\n",
       "      <td>6228</td>\n",
       "      <td>2995</td>\n",
       "      <td>135460</td>\n",
       "      <td>19516</td>\n",
       "      <td>0.144072</td>\n",
       "      <td>104.21387</td>\n",
       "      <td>641.725346</td>\n",
       "    </tr>\n",
       "    <tr>\n",
       "      <th>205</th>\n",
       "      <td>152</td>\n",
       "      <td>98</td>\n",
       "      <td>20456</td>\n",
       "      <td>1598</td>\n",
       "      <td>0.078119</td>\n",
       "      <td>77.73047</td>\n",
       "      <td>15.661890</td>\n",
       "    </tr>\n",
       "    <tr>\n",
       "      <th>206</th>\n",
       "      <td>126</td>\n",
       "      <td>65</td>\n",
       "      <td>11278</td>\n",
       "      <td>809</td>\n",
       "      <td>0.071733</td>\n",
       "      <td>97.14735</td>\n",
       "      <td>12.982883</td>\n",
       "    </tr>\n",
       "  </tbody>\n",
       "</table>\n",
       "<p>207 rows × 7 columns</p>\n",
       "</div>"
      ],
      "text/plain": [
       "     Revenue  Employee  Population  Population_University  Percent_University  \\\n",
       "0       1078       276       10059                    719            0.071478   \n",
       "1       3790      1621       62815                   8716            0.138757   \n",
       "2       4560      1910       85753                  13308            0.155190   \n",
       "3       1366       708       39289                   4419            0.112474   \n",
       "4        171        99       30114                   3843            0.127615   \n",
       "..       ...       ...         ...                    ...                 ...   \n",
       "202       52        33        7220                    368            0.050970   \n",
       "203       51        24        4931                    266            0.053944   \n",
       "204     6228      2995      135460                  19516            0.144072   \n",
       "205      152        98       20456                   1598            0.078119   \n",
       "206      126        65       11278                    809            0.071733   \n",
       "\n",
       "     Productivity  SalesIndex  \n",
       "0       195.74174  111.075774  \n",
       "1       117.17365  390.516869  \n",
       "2       119.64794  469.856708  \n",
       "3        96.69215  140.750935  \n",
       "4        86.56347   17.619627  \n",
       "..            ...         ...  \n",
       "202      78.97019    5.358015  \n",
       "203     106.49585    5.254976  \n",
       "204     104.21387  641.725346  \n",
       "205      77.73047   15.661890  \n",
       "206      97.14735   12.982883  \n",
       "\n",
       "[207 rows x 7 columns]"
      ]
     },
     "execution_count": 7,
     "metadata": {},
     "output_type": "execute_result"
    }
   ],
   "source": [
    "ext_df"
   ]
  },
  {
   "cell_type": "code",
   "execution_count": 8,
   "metadata": {},
   "outputs": [],
   "source": [
    "# applying scaling\n",
    "features = ext_df.values"
   ]
  },
  {
   "cell_type": "code",
   "execution_count": 9,
   "metadata": {},
   "outputs": [
    {
     "data": {
      "text/plain": [
       "StandardScaler()"
      ]
     },
     "execution_count": 9,
     "metadata": {},
     "output_type": "execute_result"
    }
   ],
   "source": [
    "from sklearn.preprocessing import StandardScaler\n",
    "scaler = StandardScaler()\n",
    "scaler.fit(features)"
   ]
  },
  {
   "cell_type": "code",
   "execution_count": 10,
   "metadata": {},
   "outputs": [],
   "source": [
    "feat_scaled = scaler.transform(features)"
   ]
  },
  {
   "cell_type": "code",
   "execution_count": 11,
   "metadata": {},
   "outputs": [
    {
     "data": {
      "text/plain": [
       "array([[ 0.0171844 , -0.16924445, -0.36696823, ..., -0.63900455,\n",
       "         3.73881675,  0.0171844 ],\n",
       "       [ 1.02597326,  0.75220563,  0.42373029, ...,  1.01559689,\n",
       "         0.92207436,  1.02597326],\n",
       "       [ 1.31239193,  0.9501975 ,  0.76752138, ...,  1.41974542,\n",
       "         1.01078006,  1.31239193],\n",
       "       ...,\n",
       "       [ 1.93284171,  1.6935234 ,  1.51252197, ...,  1.14631992,\n",
       "         0.45745365,  1.93284171],\n",
       "       [-0.32726194, -0.291191  , -0.21113965, ..., -0.47568966,\n",
       "        -0.49200198, -0.32726194],\n",
       "       [-0.33693322, -0.31379907, -0.34869805, ..., -0.63275046,\n",
       "         0.20411204, -0.33693322]])"
      ]
     },
     "execution_count": 11,
     "metadata": {},
     "output_type": "execute_result"
    }
   ],
   "source": [
    "feat_scaled"
   ]
  },
  {
   "cell_type": "code",
   "execution_count": null,
   "metadata": {},
   "outputs": [],
   "source": [
    "# computing pca for D_reduction"
   ]
  },
  {
   "cell_type": "code",
   "execution_count": 12,
   "metadata": {},
   "outputs": [
    {
     "data": {
      "text/plain": [
       "PCA()"
      ]
     },
     "execution_count": 12,
     "metadata": {},
     "output_type": "execute_result"
    }
   ],
   "source": [
    "import matplotlib.pyplot as plt\n",
    "from sklearn.decomposition import PCA\n",
    "pca = PCA()\n",
    "pca.fit(feat_scaled)"
   ]
  },
  {
   "cell_type": "code",
   "execution_count": 13,
   "metadata": {},
   "outputs": [
    {
     "data": {
      "text/plain": [
       "array([5.21224388e+00, 9.95055823e-01, 7.53869527e-01, 5.42640516e-02,\n",
       "       1.41157419e-02, 4.43155921e-03, 5.03397574e-19])"
      ]
     },
     "execution_count": 13,
     "metadata": {},
     "output_type": "execute_result"
    }
   ],
   "source": [
    "pca.explained_variance_"
   ]
  },
  {
   "cell_type": "code",
   "execution_count": null,
   "metadata": {},
   "outputs": [],
   "source": []
  },
  {
   "cell_type": "code",
   "execution_count": 14,
   "metadata": {},
   "outputs": [
    {
     "data": {
      "image/png": "[encoded data removed]",
      "text/plain": [
       "<Figure size 432x288 with 1 Axes>"
      ]
     },
     "metadata": {
      "needs_background": "light"
     },
     "output_type": "display_data"
    }
   ],
   "source": [
    "plt.bar(range(pca.n_components_), pca.explained_variance_ratio_)\n",
    "plt.ylabel('variance')\n",
    "plt.xlabel('PCA feature')\n",
    "plt.show()"
   ]
  },
  {
   "cell_type": "code",
   "execution_count": 15,
   "metadata": {},
   "outputs": [],
   "source": [
    "ratio = []\n",
    "for i in pca.explained_variance_ratio_:\n",
    "    ratio.append(float(i))"
   ]
  },
  {
   "cell_type": "code",
   "execution_count": 16,
   "metadata": {},
   "outputs": [
    {
     "data": {
      "text/plain": [
       "[0.7410091368669718,\n",
       " 0.14146411287818744,\n",
       " 0.10717537782054076,\n",
       " 0.007714558054275399,\n",
       " 0.0020067928504590585,\n",
       " 0.0006300215295654745,\n",
       " 7.156652882164265e-20]"
      ]
     },
     "execution_count": 16,
     "metadata": {},
     "output_type": "execute_result"
    }
   ],
   "source": [
    "ratio"
   ]
  },
  {
   "cell_type": "code",
   "execution_count": null,
   "metadata": {},
   "outputs": [],
   "source": [
    "# first 3 components are imp "
   ]
  },
  {
   "cell_type": "code",
   "execution_count": 17,
   "metadata": {},
   "outputs": [],
   "source": [
    "# using pca with 3 components\n",
    "pca = PCA(n_components=3)\n",
    "fet_trans = pca.fit_transform(feat_scaled)"
   ]
  },
  {
   "cell_type": "code",
   "execution_count": 18,
   "metadata": {},
   "outputs": [
    {
     "data": {
      "text/plain": [
       "(207, 3)"
      ]
     },
     "execution_count": 18,
     "metadata": {},
     "output_type": "execute_result"
    }
   ],
   "source": [
    "fet_trans.shape"
   ]
  },
  {
   "cell_type": "code",
   "execution_count": 19,
   "metadata": {},
   "outputs": [],
   "source": [
    "# clustering the data using pca components , number of clusters as given 3"
   ]
  },
  {
   "cell_type": "code",
   "execution_count": null,
   "metadata": {},
   "outputs": [],
   "source": []
  },
  {
   "cell_type": "code",
   "execution_count": 61,
   "metadata": {},
   "outputs": [
    {
     "data": {
      "text/plain": [
       "KMeans(n_clusters=3)"
      ]
     },
     "execution_count": 61,
     "metadata": {},
     "output_type": "execute_result"
    }
   ],
   "source": [
    "from sklearn.cluster import KMeans\n",
    "model = KMeans(n_clusters=3)\n",
    "model.fit(fet_trans)"
   ]
  },
  {
   "cell_type": "code",
   "execution_count": 62,
   "metadata": {},
   "outputs": [
    {
     "data": {
      "text/plain": [
       "410.5252487388795"
      ]
     },
     "execution_count": 62,
     "metadata": {},
     "output_type": "execute_result"
    }
   ],
   "source": [
    "model.inertia_"
   ]
  },
  {
   "cell_type": "code",
   "execution_count": 63,
   "metadata": {},
   "outputs": [],
   "source": [
    "# labels associated\n",
    "labels = model.predict(fet_trans)"
   ]
  },
  {
   "cell_type": "code",
   "execution_count": 64,
   "metadata": {},
   "outputs": [
    {
     "data": {
      "image/png": "[encoded data removed]",
      "text/plain": [
       "<Figure size 720x504 with 1 Axes>"
      ]
     },
     "metadata": {
      "needs_background": "light"
     },
     "output_type": "display_data"
    }
   ],
   "source": [
    "fig = plt.figure(figsize = (10, 7))\n",
    "ax = plt.axes(projection =\"3d\")\n",
    " \n",
    "# Creating plot\n",
    "ax.scatter3D(fet_trans[:,1], fet_trans[:,0], fet_trans[:,2], c = labels)\n",
    "plt.title(\"scatter plot\")\n",
    " \n",
    "# show plot\n",
    "plt.show()"
   ]
  },
  {
   "cell_type": "code",
   "execution_count": 65,
   "metadata": {},
   "outputs": [],
   "source": [
    "# getting the center values\n",
    "centers = model.cluster_centers_"
   ]
  },
  {
   "cell_type": "code",
   "execution_count": 76,
   "metadata": {},
   "outputs": [
    {
     "data": {
      "text/plain": [
       "array([[-0.54894166, -0.06943851, -0.13782204],\n",
       "       [27.36224045, -1.72877587, -3.54244093],\n",
       "       [ 2.40691149,  0.48342732,  0.96334284]])"
      ]
     },
     "execution_count": 76,
     "metadata": {},
     "output_type": "execute_result"
    }
   ],
   "source": [
    "centers"
   ]
  },
  {
   "cell_type": "code",
   "execution_count": null,
   "metadata": {},
   "outputs": [],
   "source": []
  },
  {
   "cell_type": "code",
   "execution_count": null,
   "metadata": {},
   "outputs": [],
   "source": []
  },
  {
   "cell_type": "code",
   "execution_count": null,
   "metadata": {},
   "outputs": [],
   "source": [
    "# scatter plot with centers of each cluster"
   ]
  },
  {
   "cell_type": "code",
   "execution_count": 67,
   "metadata": {},
   "outputs": [
    {
     "data": {
      "image/png": "[encoded data removed]",
      "text/plain": [
       "<Figure size 720x504 with 1 Axes>"
      ]
     },
     "metadata": {
      "needs_background": "light"
     },
     "output_type": "display_data"
    }
   ],
   "source": [
    "fig = plt.figure(figsize = (10, 7))\n",
    "ax = plt.axes(projection =\"3d\")\n",
    " \n",
    "# Creating plot\n",
    "ax.scatter3D(fet_trans[:,1], fet_trans[:,0], fet_trans[:,2], c = labels)\n",
    "ax.scatter3D(centers[:,1], centers[:,0], centers[:,2], marker ='D',c='r', s =50)\n",
    "plt.title(\"scatter plot with centers\")\n",
    " \n",
    "# show plot\n",
    "plt.show()"
   ]
  },
  {
   "cell_type": "code",
   "execution_count": null,
   "metadata": {},
   "outputs": [],
   "source": [
    "# plotting the data only taking two features at a time"
   ]
  },
  {
   "cell_type": "code",
   "execution_count": 68,
   "metadata": {},
   "outputs": [
    {
     "data": {
      "text/plain": [
       "<matplotlib.collections.PathCollection at 0x21ed7c35a60>"
      ]
     },
     "execution_count": 68,
     "metadata": {},
     "output_type": "execute_result"
    },
    {
     "data": {
      "image/png": "[encoded data removed]",
      "text/plain": [
       "<Figure size 432x288 with 1 Axes>"
      ]
     },
     "metadata": {
      "needs_background": "light"
     },
     "output_type": "display_data"
    }
   ],
   "source": [
    "# plotting 2 features only and centers\n",
    "plt.scatter(fet_trans[:,0], fet_trans[:,1], c= labels)\n",
    "plt.scatter(centers[:,0], centers[:,1],  marker ='D',c='r', s =50)"
   ]
  },
  {
   "cell_type": "code",
   "execution_count": 69,
   "metadata": {},
   "outputs": [
    {
     "data": {
      "text/plain": [
       "<matplotlib.collections.PathCollection at 0x21ed7ea1f70>"
      ]
     },
     "execution_count": 69,
     "metadata": {},
     "output_type": "execute_result"
    },
    {
     "data": {
      "image/png": "[encoded data removed]",
      "text/plain": [
       "<Figure size 432x288 with 1 Axes>"
      ]
     },
     "metadata": {
      "needs_background": "light"
     },
     "output_type": "display_data"
    }
   ],
   "source": [
    "plt.scatter(fet_trans[:,0], fet_trans[:,2], c= labels)\n",
    "plt.scatter(centers[:,0], centers[:,2],  marker ='D',c='r', s =50)"
   ]
  },
  {
   "cell_type": "code",
   "execution_count": 70,
   "metadata": {},
   "outputs": [
    {
     "data": {
      "text/plain": [
       "<matplotlib.collections.PathCollection at 0x21ed7bfa0a0>"
      ]
     },
     "execution_count": 70,
     "metadata": {},
     "output_type": "execute_result"
    },
    {
     "data": {
      "image/png": "[encoded data removed]",
      "text/plain": [
       "<Figure size 432x288 with 1 Axes>"
      ]
     },
     "metadata": {
      "needs_background": "light"
     },
     "output_type": "display_data"
    }
   ],
   "source": [
    "plt.scatter(fet_trans[:,1], fet_trans[:,2], c= labels)\n",
    "plt.scatter(centers[:,1], centers[:,2],  marker ='D',c='r', s =50)"
   ]
  },
  {
   "cell_type": "code",
   "execution_count": null,
   "metadata": {},
   "outputs": [],
   "source": [
    "# contructing new data frame having cluster labels with each point and fields to check if ikea present or not"
   ]
  },
  {
   "cell_type": "code",
   "execution_count": 72,
   "metadata": {},
   "outputs": [],
   "source": [
    "processed = pd.DataFrame(fet_trans)"
   ]
  },
  {
   "cell_type": "code",
   "execution_count": 73,
   "metadata": {},
   "outputs": [],
   "source": [
    "processed['labels'] = labels"
   ]
  },
  {
   "cell_type": "code",
   "execution_count": 86,
   "metadata": {},
   "outputs": [],
   "source": [
    "processed['has_ikea'] = has_ikea"
   ]
  },
  {
   "cell_type": "code",
   "execution_count": 117,
   "metadata": {},
   "outputs": [],
   "source": [
    "processed['name'] = df['Kommun_name']"
   ]
  },
  {
   "cell_type": "code",
   "execution_count": 118,
   "metadata": {},
   "outputs": [
    {
     "data": {
      "text/html": [
       "<div>\n",
       "<style scoped>\n",
       "    .dataframe tbody tr th:only-of-type {\n",
       "        vertical-align: middle;\n",
       "    }\n",
       "\n",
       "    .dataframe tbody tr th {\n",
       "        vertical-align: top;\n",
       "    }\n",
       "\n",
       "    .dataframe thead th {\n",
       "        text-align: right;\n",
       "    }\n",
       "</style>\n",
       "<table border=\"1\" class=\"dataframe\">\n",
       "  <thead>\n",
       "    <tr style=\"text-align: right;\">\n",
       "      <th></th>\n",
       "      <th>0</th>\n",
       "      <th>1</th>\n",
       "      <th>2</th>\n",
       "      <th>labels</th>\n",
       "      <th>has_ikea</th>\n",
       "      <th>name</th>\n",
       "    </tr>\n",
       "  </thead>\n",
       "  <tbody>\n",
       "    <tr>\n",
       "      <th>0</th>\n",
       "      <td>-0.256827</td>\n",
       "      <td>3.795376</td>\n",
       "      <td>-0.354488</td>\n",
       "      <td>0</td>\n",
       "      <td>1</td>\n",
       "      <td>\"Haparanda\"</td>\n",
       "    </tr>\n",
       "    <tr>\n",
       "      <th>1</th>\n",
       "      <td>1.822138</td>\n",
       "      <td>0.826915</td>\n",
       "      <td>0.626856</td>\n",
       "      <td>2</td>\n",
       "      <td>1</td>\n",
       "      <td>\"Kalmar\"</td>\n",
       "    </tr>\n",
       "    <tr>\n",
       "      <th>2</th>\n",
       "      <td>2.545419</td>\n",
       "      <td>0.857841</td>\n",
       "      <td>0.874369</td>\n",
       "      <td>2</td>\n",
       "      <td>1</td>\n",
       "      <td>\"Karlstad\"</td>\n",
       "    </tr>\n",
       "    <tr>\n",
       "      <th>3</th>\n",
       "      <td>0.286170</td>\n",
       "      <td>0.161894</td>\n",
       "      <td>0.314779</td>\n",
       "      <td>0</td>\n",
       "      <td>0</td>\n",
       "      <td>\"Upplands Väsby\"</td>\n",
       "    </tr>\n",
       "    <tr>\n",
       "      <th>4</th>\n",
       "      <td>-0.291902</td>\n",
       "      <td>-0.215088</td>\n",
       "      <td>0.834730</td>\n",
       "      <td>0</td>\n",
       "      <td>0</td>\n",
       "      <td>\"Vallentuna\"</td>\n",
       "    </tr>\n",
       "    <tr>\n",
       "      <th>...</th>\n",
       "      <td>...</td>\n",
       "      <td>...</td>\n",
       "      <td>...</td>\n",
       "      <td>...</td>\n",
       "      <td>...</td>\n",
       "      <td>...</td>\n",
       "    </tr>\n",
       "    <tr>\n",
       "      <th>202</th>\n",
       "      <td>-1.068566</td>\n",
       "      <td>-0.337967</td>\n",
       "      <td>-0.938364</td>\n",
       "      <td>0</td>\n",
       "      <td>0</td>\n",
       "      <td>\"Hällefors\"</td>\n",
       "    </tr>\n",
       "    <tr>\n",
       "      <th>203</th>\n",
       "      <td>-1.011093</td>\n",
       "      <td>0.640097</td>\n",
       "      <td>-0.813069</td>\n",
       "      <td>0</td>\n",
       "      <td>0</td>\n",
       "      <td>\"Ljusnarsberg\"</td>\n",
       "    </tr>\n",
       "    <tr>\n",
       "      <th>204</th>\n",
       "      <td>3.817212</td>\n",
       "      <td>0.262281</td>\n",
       "      <td>0.233111</td>\n",
       "      <td>2</td>\n",
       "      <td>1</td>\n",
       "      <td>\"Örebro\"</td>\n",
       "    </tr>\n",
       "    <tr>\n",
       "      <th>205</th>\n",
       "      <td>-0.737757</td>\n",
       "      <td>-0.437497</td>\n",
       "      <td>-0.333067</td>\n",
       "      <td>0</td>\n",
       "      <td>0</td>\n",
       "      <td>\"Kumla\"</td>\n",
       "    </tr>\n",
       "    <tr>\n",
       "      <th>206</th>\n",
       "      <td>-0.833681</td>\n",
       "      <td>0.273481</td>\n",
       "      <td>-0.428302</td>\n",
       "      <td>0</td>\n",
       "      <td>0</td>\n",
       "      <td>\"Askersund\"</td>\n",
       "    </tr>\n",
       "  </tbody>\n",
       "</table>\n",
       "<p>207 rows × 6 columns</p>\n",
       "</div>"
      ],
      "text/plain": [
       "            0         1         2  labels  has_ikea              name\n",
       "0   -0.256827  3.795376 -0.354488       0         1       \"Haparanda\"\n",
       "1    1.822138  0.826915  0.626856       2         1          \"Kalmar\"\n",
       "2    2.545419  0.857841  0.874369       2         1        \"Karlstad\"\n",
       "3    0.286170  0.161894  0.314779       0         0  \"Upplands Väsby\"\n",
       "4   -0.291902 -0.215088  0.834730       0         0      \"Vallentuna\"\n",
       "..        ...       ...       ...     ...       ...               ...\n",
       "202 -1.068566 -0.337967 -0.938364       0         0       \"Hällefors\"\n",
       "203 -1.011093  0.640097 -0.813069       0         0    \"Ljusnarsberg\"\n",
       "204  3.817212  0.262281  0.233111       2         1          \"Örebro\"\n",
       "205 -0.737757 -0.437497 -0.333067       0         0           \"Kumla\"\n",
       "206 -0.833681  0.273481 -0.428302       0         0       \"Askersund\"\n",
       "\n",
       "[207 rows x 6 columns]"
      ]
     },
     "execution_count": 118,
     "metadata": {},
     "output_type": "execute_result"
    }
   ],
   "source": [
    "processed"
   ]
  },
  {
   "cell_type": "code",
   "execution_count": null,
   "metadata": {},
   "outputs": [],
   "source": [
    "# creating 3 dataframe according to cluster labels"
   ]
  },
  {
   "cell_type": "code",
   "execution_count": 119,
   "metadata": {},
   "outputs": [],
   "source": [
    "lab_0 = processed[processed['labels'] == 0]\n",
    "lab_1 = processed[processed['labels'] == 1]\n",
    "lab_2 = processed[processed['labels'] == 2]"
   ]
  },
  {
   "cell_type": "code",
   "execution_count": null,
   "metadata": {},
   "outputs": [],
   "source": []
  },
  {
   "cell_type": "code",
   "execution_count": 121,
   "metadata": {},
   "outputs": [
    {
     "data": {
      "text/plain": [
       "177"
      ]
     },
     "execution_count": 121,
     "metadata": {},
     "output_type": "execute_result"
    }
   ],
   "source": [
    "len(lab_0)"
   ]
  },
  {
   "cell_type": "code",
   "execution_count": 122,
   "metadata": {},
   "outputs": [
    {
     "data": {
      "text/plain": [
       "1"
      ]
     },
     "execution_count": 122,
     "metadata": {},
     "output_type": "execute_result"
    }
   ],
   "source": [
    "len(lab_1)"
   ]
  },
  {
   "cell_type": "code",
   "execution_count": 123,
   "metadata": {},
   "outputs": [
    {
     "data": {
      "text/plain": [
       "29"
      ]
     },
     "execution_count": 123,
     "metadata": {},
     "output_type": "execute_result"
    }
   ],
   "source": [
    "len(lab_2)"
   ]
  },
  {
   "cell_type": "code",
   "execution_count": 124,
   "metadata": {},
   "outputs": [
    {
     "data": {
      "text/plain": [
       "207"
      ]
     },
     "execution_count": 124,
     "metadata": {},
     "output_type": "execute_result"
    }
   ],
   "source": [
    "len(processed)"
   ]
  },
  {
   "cell_type": "code",
   "execution_count": null,
   "metadata": {},
   "outputs": [],
   "source": [
    "# calculating the distance between data poin and it's centroid for lab_0 "
   ]
  },
  {
   "cell_type": "code",
   "execution_count": 125,
   "metadata": {
    "collapsed": true
   },
   "outputs": [
    {
     "name": "stdout",
     "output_type": "stream",
     "text": [
      "0\n",
      "1\n",
      "2\n",
      "3\n",
      "4\n",
      "5\n",
      "6\n",
      "7\n",
      "8\n",
      "9\n",
      "10\n",
      "11\n",
      "12\n",
      "13\n",
      "14\n",
      "15\n",
      "16\n",
      "17\n",
      "18\n",
      "19\n",
      "20\n",
      "21\n",
      "22\n",
      "23\n",
      "24\n",
      "25\n",
      "26\n",
      "27\n",
      "28\n",
      "29\n",
      "30\n",
      "31\n",
      "32\n",
      "33\n",
      "34\n",
      "35\n",
      "36\n",
      "37\n",
      "38\n",
      "39\n",
      "40\n",
      "41\n",
      "42\n",
      "43\n",
      "44\n",
      "45\n",
      "46\n",
      "47\n",
      "48\n",
      "49\n",
      "50\n",
      "51\n",
      "52\n",
      "53\n",
      "54\n",
      "55\n",
      "56\n",
      "57\n",
      "58\n",
      "59\n",
      "60\n",
      "61\n",
      "62\n",
      "63\n",
      "64\n",
      "65\n",
      "66\n",
      "67\n",
      "68\n",
      "69\n",
      "70\n",
      "71\n",
      "72\n",
      "73\n",
      "74\n",
      "75\n",
      "76\n",
      "77\n",
      "78\n",
      "79\n",
      "80\n",
      "81\n",
      "82\n",
      "83\n",
      "84\n",
      "85\n",
      "86\n",
      "87\n",
      "88\n",
      "89\n",
      "90\n",
      "91\n",
      "92\n",
      "93\n",
      "94\n",
      "95\n",
      "96\n",
      "97\n",
      "98\n",
      "99\n",
      "100\n",
      "101\n",
      "102\n",
      "103\n",
      "104\n",
      "105\n",
      "106\n",
      "107\n",
      "108\n",
      "109\n",
      "110\n",
      "111\n",
      "112\n",
      "113\n",
      "114\n",
      "115\n",
      "116\n",
      "117\n",
      "118\n",
      "119\n",
      "120\n",
      "121\n",
      "122\n",
      "123\n",
      "124\n",
      "125\n",
      "126\n",
      "127\n",
      "128\n",
      "129\n",
      "130\n",
      "131\n",
      "132\n",
      "133\n",
      "134\n",
      "135\n",
      "136\n",
      "137\n",
      "138\n",
      "139\n",
      "140\n",
      "141\n",
      "142\n",
      "143\n",
      "144\n",
      "145\n",
      "146\n",
      "147\n",
      "148\n",
      "149\n",
      "150\n",
      "151\n",
      "152\n",
      "153\n",
      "154\n",
      "155\n",
      "156\n",
      "157\n",
      "158\n",
      "159\n",
      "160\n",
      "161\n",
      "162\n",
      "163\n",
      "164\n",
      "165\n",
      "166\n",
      "167\n",
      "168\n",
      "169\n",
      "170\n",
      "171\n",
      "172\n",
      "173\n",
      "174\n",
      "175\n",
      "176\n"
     ]
    }
   ],
   "source": [
    "# centroid for label 0\n",
    "y_p = np.array(centers[:,0])\n",
    "# lab_0['dist'] = []\n",
    "dist=[]\n",
    "for i in range(len(lab_0)) :\n",
    "    print(i)\n",
    "    x_p = np.array([lab_0.iloc[i, 0], lab_0.iloc[i, 1], lab_0.iloc[i,2]])\n",
    "    dist.append(np.linalg.norm(y_p - x_p))\n",
    "    "
   ]
  },
  {
   "cell_type": "code",
   "execution_count": 126,
   "metadata": {},
   "outputs": [
    {
     "data": {
      "text/plain": [
       "177"
      ]
     },
     "execution_count": 126,
     "metadata": {},
     "output_type": "execute_result"
    }
   ],
   "source": [
    "len(dist)"
   ]
  },
  {
   "cell_type": "code",
   "execution_count": null,
   "metadata": {},
   "outputs": [],
   "source": [
    "# appending the dist with dataframe"
   ]
  },
  {
   "cell_type": "code",
   "execution_count": 127,
   "metadata": {},
   "outputs": [
    {
     "name": "stderr",
     "output_type": "stream",
     "text": [
      "<ipython-input-127-c0fb0b660a76>:1: SettingWithCopyWarning: \n",
      "A value is trying to be set on a copy of a slice from a DataFrame.\n",
      "Try using .loc[row_indexer,col_indexer] = value instead\n",
      "\n",
      "See the caveats in the documentation: https://pandas.pydata.org/pandas-docs/stable/user_guide/indexing.html#returning-a-view-versus-a-copy\n",
      "  lab_0['dist_from_centroid'] = dist\n"
     ]
    }
   ],
   "source": [
    "lab_0['dist_from_centroid'] = dist"
   ]
  },
  {
   "cell_type": "code",
   "execution_count": 128,
   "metadata": {},
   "outputs": [],
   "source": [
    "lab_0.reset_index(drop=True,inplace=True)"
   ]
  },
  {
   "cell_type": "code",
   "execution_count": 141,
   "metadata": {},
   "outputs": [
    {
     "data": {
      "text/html": [
       "<div>\n",
       "<style scoped>\n",
       "    .dataframe tbody tr th:only-of-type {\n",
       "        vertical-align: middle;\n",
       "    }\n",
       "\n",
       "    .dataframe tbody tr th {\n",
       "        vertical-align: top;\n",
       "    }\n",
       "\n",
       "    .dataframe thead th {\n",
       "        text-align: right;\n",
       "    }\n",
       "</style>\n",
       "<table border=\"1\" class=\"dataframe\">\n",
       "  <thead>\n",
       "    <tr style=\"text-align: right;\">\n",
       "      <th></th>\n",
       "      <th>0</th>\n",
       "      <th>1</th>\n",
       "      <th>2</th>\n",
       "      <th>labels</th>\n",
       "      <th>has_ikea</th>\n",
       "      <th>name</th>\n",
       "      <th>dist_from_centroid</th>\n",
       "    </tr>\n",
       "  </thead>\n",
       "  <tbody>\n",
       "    <tr>\n",
       "      <th>0</th>\n",
       "      <td>-0.256827</td>\n",
       "      <td>3.795376</td>\n",
       "      <td>-0.354488</td>\n",
       "      <td>0</td>\n",
       "      <td>1</td>\n",
       "      <td>\"Haparanda\"</td>\n",
       "      <td>23.729892</td>\n",
       "    </tr>\n",
       "    <tr>\n",
       "      <th>1</th>\n",
       "      <td>0.286170</td>\n",
       "      <td>0.161894</td>\n",
       "      <td>0.314779</td>\n",
       "      <td>0</td>\n",
       "      <td>0</td>\n",
       "      <td>\"Upplands Väsby\"</td>\n",
       "      <td>27.293466</td>\n",
       "    </tr>\n",
       "    <tr>\n",
       "      <th>2</th>\n",
       "      <td>-0.291902</td>\n",
       "      <td>-0.215088</td>\n",
       "      <td>0.834730</td>\n",
       "      <td>0</td>\n",
       "      <td>0</td>\n",
       "      <td>\"Vallentuna\"</td>\n",
       "      <td>27.623303</td>\n",
       "    </tr>\n",
       "    <tr>\n",
       "      <th>3</th>\n",
       "      <td>-0.002595</td>\n",
       "      <td>-0.107521</td>\n",
       "      <td>0.747847</td>\n",
       "      <td>0</td>\n",
       "      <td>0</td>\n",
       "      <td>\"Österåker\"</td>\n",
       "      <td>27.525239</td>\n",
       "    </tr>\n",
       "    <tr>\n",
       "      <th>4</th>\n",
       "      <td>0.142858</td>\n",
       "      <td>0.318142</td>\n",
       "      <td>0.643094</td>\n",
       "      <td>0</td>\n",
       "      <td>0</td>\n",
       "      <td>\"Värmdö\"</td>\n",
       "      <td>27.110383</td>\n",
       "    </tr>\n",
       "  </tbody>\n",
       "</table>\n",
       "</div>"
      ],
      "text/plain": [
       "          0         1         2  labels  has_ikea              name  \\\n",
       "0 -0.256827  3.795376 -0.354488       0         1       \"Haparanda\"   \n",
       "1  0.286170  0.161894  0.314779       0         0  \"Upplands Väsby\"   \n",
       "2 -0.291902 -0.215088  0.834730       0         0      \"Vallentuna\"   \n",
       "3 -0.002595 -0.107521  0.747847       0         0       \"Österåker\"   \n",
       "4  0.142858  0.318142  0.643094       0         0          \"Värmdö\"   \n",
       "\n",
       "   dist_from_centroid  \n",
       "0           23.729892  \n",
       "1           27.293466  \n",
       "2           27.623303  \n",
       "3           27.525239  \n",
       "4           27.110383  "
      ]
     },
     "execution_count": 141,
     "metadata": {},
     "output_type": "execute_result"
    }
   ],
   "source": [
    "lab_0.head()"
   ]
  },
  {
   "cell_type": "code",
   "execution_count": 130,
   "metadata": {},
   "outputs": [
    {
     "data": {
      "text/html": [
       "<div>\n",
       "<style scoped>\n",
       "    .dataframe tbody tr th:only-of-type {\n",
       "        vertical-align: middle;\n",
       "    }\n",
       "\n",
       "    .dataframe tbody tr th {\n",
       "        vertical-align: top;\n",
       "    }\n",
       "\n",
       "    .dataframe thead th {\n",
       "        text-align: right;\n",
       "    }\n",
       "</style>\n",
       "<table border=\"1\" class=\"dataframe\">\n",
       "  <thead>\n",
       "    <tr style=\"text-align: right;\">\n",
       "      <th></th>\n",
       "      <th>0</th>\n",
       "      <th>1</th>\n",
       "      <th>2</th>\n",
       "      <th>labels</th>\n",
       "      <th>has_ikea</th>\n",
       "      <th>name</th>\n",
       "      <th>dist_from_centroid</th>\n",
       "    </tr>\n",
       "  </thead>\n",
       "  <tbody>\n",
       "    <tr>\n",
       "      <th>34</th>\n",
       "      <td>-0.631040</td>\n",
       "      <td>6.660210</td>\n",
       "      <td>-0.412113</td>\n",
       "      <td>0</td>\n",
       "      <td>0</td>\n",
       "      <td>\"Boxholm\"</td>\n",
       "      <td>20.893246</td>\n",
       "    </tr>\n",
       "    <tr>\n",
       "      <th>0</th>\n",
       "      <td>-0.256827</td>\n",
       "      <td>3.795376</td>\n",
       "      <td>-0.354488</td>\n",
       "      <td>0</td>\n",
       "      <td>1</td>\n",
       "      <td>\"Haparanda\"</td>\n",
       "      <td>23.729892</td>\n",
       "    </tr>\n",
       "    <tr>\n",
       "      <th>61</th>\n",
       "      <td>-0.771806</td>\n",
       "      <td>3.259079</td>\n",
       "      <td>-0.463791</td>\n",
       "      <td>0</td>\n",
       "      <td>0</td>\n",
       "      <td>\"Högsby\"</td>\n",
       "      <td>24.274534</td>\n",
       "    </tr>\n",
       "    <tr>\n",
       "      <th>36</th>\n",
       "      <td>-0.497088</td>\n",
       "      <td>2.883276</td>\n",
       "      <td>-0.141764</td>\n",
       "      <td>0</td>\n",
       "      <td>0</td>\n",
       "      <td>\"Finspång\"</td>\n",
       "      <td>24.611342</td>\n",
       "    </tr>\n",
       "    <tr>\n",
       "      <th>10</th>\n",
       "      <td>-0.370183</td>\n",
       "      <td>1.699482</td>\n",
       "      <td>0.439306</td>\n",
       "      <td>0</td>\n",
       "      <td>0</td>\n",
       "      <td>\"Upplands-Bro\"</td>\n",
       "      <td>25.738698</td>\n",
       "    </tr>\n",
       "    <tr>\n",
       "      <th>...</th>\n",
       "      <td>...</td>\n",
       "      <td>...</td>\n",
       "      <td>...</td>\n",
       "      <td>...</td>\n",
       "      <td>...</td>\n",
       "      <td>...</td>\n",
       "      <td>...</td>\n",
       "    </tr>\n",
       "    <tr>\n",
       "      <th>161</th>\n",
       "      <td>-1.125037</td>\n",
       "      <td>-1.808968</td>\n",
       "      <td>-0.913398</td>\n",
       "      <td>0</td>\n",
       "      <td>0</td>\n",
       "      <td>\"Grums\"</td>\n",
       "      <td>29.365213</td>\n",
       "    </tr>\n",
       "    <tr>\n",
       "      <th>119</th>\n",
       "      <td>-1.120794</td>\n",
       "      <td>-1.858310</td>\n",
       "      <td>-0.814059</td>\n",
       "      <td>0</td>\n",
       "      <td>0</td>\n",
       "      <td>\"Färgelanda\"</td>\n",
       "      <td>29.403099</td>\n",
       "    </tr>\n",
       "    <tr>\n",
       "      <th>158</th>\n",
       "      <td>-0.506570</td>\n",
       "      <td>-2.159965</td>\n",
       "      <td>1.215980</td>\n",
       "      <td>0</td>\n",
       "      <td>0</td>\n",
       "      <td>\"Hammarö\"</td>\n",
       "      <td>29.546248</td>\n",
       "    </tr>\n",
       "    <tr>\n",
       "      <th>44</th>\n",
       "      <td>-0.990919</td>\n",
       "      <td>-2.446369</td>\n",
       "      <td>-0.220161</td>\n",
       "      <td>0</td>\n",
       "      <td>0</td>\n",
       "      <td>\"Mullsjö\"</td>\n",
       "      <td>29.927413</td>\n",
       "    </tr>\n",
       "    <tr>\n",
       "      <th>7</th>\n",
       "      <td>-0.673815</td>\n",
       "      <td>-2.567451</td>\n",
       "      <td>0.658513</td>\n",
       "      <td>0</td>\n",
       "      <td>0</td>\n",
       "      <td>\"Salem\"</td>\n",
       "      <td>29.980976</td>\n",
       "    </tr>\n",
       "  </tbody>\n",
       "</table>\n",
       "<p>177 rows × 7 columns</p>\n",
       "</div>"
      ],
      "text/plain": [
       "            0         1         2  labels  has_ikea            name  \\\n",
       "34  -0.631040  6.660210 -0.412113       0         0       \"Boxholm\"   \n",
       "0   -0.256827  3.795376 -0.354488       0         1     \"Haparanda\"   \n",
       "61  -0.771806  3.259079 -0.463791       0         0        \"Högsby\"   \n",
       "36  -0.497088  2.883276 -0.141764       0         0      \"Finspång\"   \n",
       "10  -0.370183  1.699482  0.439306       0         0  \"Upplands-Bro\"   \n",
       "..        ...       ...       ...     ...       ...             ...   \n",
       "161 -1.125037 -1.808968 -0.913398       0         0         \"Grums\"   \n",
       "119 -1.120794 -1.858310 -0.814059       0         0    \"Färgelanda\"   \n",
       "158 -0.506570 -2.159965  1.215980       0         0       \"Hammarö\"   \n",
       "44  -0.990919 -2.446369 -0.220161       0         0       \"Mullsjö\"   \n",
       "7   -0.673815 -2.567451  0.658513       0         0         \"Salem\"   \n",
       "\n",
       "     dist_from_centroid  \n",
       "34            20.893246  \n",
       "0             23.729892  \n",
       "61            24.274534  \n",
       "36            24.611342  \n",
       "10            25.738698  \n",
       "..                  ...  \n",
       "161           29.365213  \n",
       "119           29.403099  \n",
       "158           29.546248  \n",
       "44            29.927413  \n",
       "7             29.980976  \n",
       "\n",
       "[177 rows x 7 columns]"
      ]
     },
     "execution_count": 130,
     "metadata": {},
     "output_type": "execute_result"
    }
   ],
   "source": [
    "# sorting the values according to the distance\n",
    "lab_0.sort_values('dist_from_centroid')"
   ]
  },
  {
   "cell_type": "code",
   "execution_count": null,
   "metadata": {},
   "outputs": [],
   "source": [
    "#     VALUES SORTED FOR DATAFRAME WHERE IKEA NOT PRESENT"
   ]
  },
  {
   "cell_type": "code",
   "execution_count": 131,
   "metadata": {},
   "outputs": [
    {
     "data": {
      "text/html": [
       "<div>\n",
       "<style scoped>\n",
       "    .dataframe tbody tr th:only-of-type {\n",
       "        vertical-align: middle;\n",
       "    }\n",
       "\n",
       "    .dataframe tbody tr th {\n",
       "        vertical-align: top;\n",
       "    }\n",
       "\n",
       "    .dataframe thead th {\n",
       "        text-align: right;\n",
       "    }\n",
       "</style>\n",
       "<table border=\"1\" class=\"dataframe\">\n",
       "  <thead>\n",
       "    <tr style=\"text-align: right;\">\n",
       "      <th></th>\n",
       "      <th>0</th>\n",
       "      <th>1</th>\n",
       "      <th>2</th>\n",
       "      <th>labels</th>\n",
       "      <th>has_ikea</th>\n",
       "      <th>name</th>\n",
       "      <th>dist_from_centroid</th>\n",
       "    </tr>\n",
       "  </thead>\n",
       "  <tbody>\n",
       "    <tr>\n",
       "      <th>34</th>\n",
       "      <td>-0.631040</td>\n",
       "      <td>6.660210</td>\n",
       "      <td>-0.412113</td>\n",
       "      <td>0</td>\n",
       "      <td>0</td>\n",
       "      <td>\"Boxholm\"</td>\n",
       "      <td>20.893246</td>\n",
       "    </tr>\n",
       "    <tr>\n",
       "      <th>61</th>\n",
       "      <td>-0.771806</td>\n",
       "      <td>3.259079</td>\n",
       "      <td>-0.463791</td>\n",
       "      <td>0</td>\n",
       "      <td>0</td>\n",
       "      <td>\"Högsby\"</td>\n",
       "      <td>24.274534</td>\n",
       "    </tr>\n",
       "    <tr>\n",
       "      <th>36</th>\n",
       "      <td>-0.497088</td>\n",
       "      <td>2.883276</td>\n",
       "      <td>-0.141764</td>\n",
       "      <td>0</td>\n",
       "      <td>0</td>\n",
       "      <td>\"Finspång\"</td>\n",
       "      <td>24.611342</td>\n",
       "    </tr>\n",
       "    <tr>\n",
       "      <th>10</th>\n",
       "      <td>-0.370183</td>\n",
       "      <td>1.699482</td>\n",
       "      <td>0.439306</td>\n",
       "      <td>0</td>\n",
       "      <td>0</td>\n",
       "      <td>\"Upplands-Bro\"</td>\n",
       "      <td>25.738698</td>\n",
       "    </tr>\n",
       "    <tr>\n",
       "      <th>6</th>\n",
       "      <td>0.660100</td>\n",
       "      <td>1.654467</td>\n",
       "      <td>-0.037309</td>\n",
       "      <td>0</td>\n",
       "      <td>0</td>\n",
       "      <td>\"Botkyrka\"</td>\n",
       "      <td>25.851994</td>\n",
       "    </tr>\n",
       "    <tr>\n",
       "      <th>...</th>\n",
       "      <td>...</td>\n",
       "      <td>...</td>\n",
       "      <td>...</td>\n",
       "      <td>...</td>\n",
       "      <td>...</td>\n",
       "      <td>...</td>\n",
       "      <td>...</td>\n",
       "    </tr>\n",
       "    <tr>\n",
       "      <th>161</th>\n",
       "      <td>-1.125037</td>\n",
       "      <td>-1.808968</td>\n",
       "      <td>-0.913398</td>\n",
       "      <td>0</td>\n",
       "      <td>0</td>\n",
       "      <td>\"Grums\"</td>\n",
       "      <td>29.365213</td>\n",
       "    </tr>\n",
       "    <tr>\n",
       "      <th>119</th>\n",
       "      <td>-1.120794</td>\n",
       "      <td>-1.858310</td>\n",
       "      <td>-0.814059</td>\n",
       "      <td>0</td>\n",
       "      <td>0</td>\n",
       "      <td>\"Färgelanda\"</td>\n",
       "      <td>29.403099</td>\n",
       "    </tr>\n",
       "    <tr>\n",
       "      <th>158</th>\n",
       "      <td>-0.506570</td>\n",
       "      <td>-2.159965</td>\n",
       "      <td>1.215980</td>\n",
       "      <td>0</td>\n",
       "      <td>0</td>\n",
       "      <td>\"Hammarö\"</td>\n",
       "      <td>29.546248</td>\n",
       "    </tr>\n",
       "    <tr>\n",
       "      <th>44</th>\n",
       "      <td>-0.990919</td>\n",
       "      <td>-2.446369</td>\n",
       "      <td>-0.220161</td>\n",
       "      <td>0</td>\n",
       "      <td>0</td>\n",
       "      <td>\"Mullsjö\"</td>\n",
       "      <td>29.927413</td>\n",
       "    </tr>\n",
       "    <tr>\n",
       "      <th>7</th>\n",
       "      <td>-0.673815</td>\n",
       "      <td>-2.567451</td>\n",
       "      <td>0.658513</td>\n",
       "      <td>0</td>\n",
       "      <td>0</td>\n",
       "      <td>\"Salem\"</td>\n",
       "      <td>29.980976</td>\n",
       "    </tr>\n",
       "  </tbody>\n",
       "</table>\n",
       "<p>174 rows × 7 columns</p>\n",
       "</div>"
      ],
      "text/plain": [
       "            0         1         2  labels  has_ikea            name  \\\n",
       "34  -0.631040  6.660210 -0.412113       0         0       \"Boxholm\"   \n",
       "61  -0.771806  3.259079 -0.463791       0         0        \"Högsby\"   \n",
       "36  -0.497088  2.883276 -0.141764       0         0      \"Finspång\"   \n",
       "10  -0.370183  1.699482  0.439306       0         0  \"Upplands-Bro\"   \n",
       "6    0.660100  1.654467 -0.037309       0         0      \"Botkyrka\"   \n",
       "..        ...       ...       ...     ...       ...             ...   \n",
       "161 -1.125037 -1.808968 -0.913398       0         0         \"Grums\"   \n",
       "119 -1.120794 -1.858310 -0.814059       0         0    \"Färgelanda\"   \n",
       "158 -0.506570 -2.159965  1.215980       0         0       \"Hammarö\"   \n",
       "44  -0.990919 -2.446369 -0.220161       0         0       \"Mullsjö\"   \n",
       "7   -0.673815 -2.567451  0.658513       0         0         \"Salem\"   \n",
       "\n",
       "     dist_from_centroid  \n",
       "34            20.893246  \n",
       "61            24.274534  \n",
       "36            24.611342  \n",
       "10            25.738698  \n",
       "6             25.851994  \n",
       "..                  ...  \n",
       "161           29.365213  \n",
       "119           29.403099  \n",
       "158           29.546248  \n",
       "44            29.927413  \n",
       "7             29.980976  \n",
       "\n",
       "[174 rows x 7 columns]"
      ]
     },
     "execution_count": 131,
     "metadata": {},
     "output_type": "execute_result"
    }
   ],
   "source": [
    "# sorted where ikea not present\n",
    "lab_0[lab_0['has_ikea'] == 0].sort_values('dist_from_centroid')"
   ]
  },
  {
   "cell_type": "code",
   "execution_count": 132,
   "metadata": {},
   "outputs": [],
   "source": [
    "# calculating the same for centroid 2(label 2) . label 1 only contains one element"
   ]
  },
  {
   "cell_type": "code",
   "execution_count": 133,
   "metadata": {},
   "outputs": [],
   "source": [
    "# centroid for label 2\n",
    "y_p = np.array(centers[:,2])\n",
    "\n",
    "dist=[]\n",
    "for i in range(len(lab_2)) :\n",
    "#     print(i)\n",
    "    x_p = np.array([lab_2.iloc[i, 0], lab_2.iloc[i, 1], lab_2.iloc[i,2]])\n",
    "    dist.append(np.linalg.norm(y_p - x_p))\n",
    "    "
   ]
  },
  {
   "cell_type": "code",
   "execution_count": 134,
   "metadata": {},
   "outputs": [
    {
     "name": "stderr",
     "output_type": "stream",
     "text": [
      "<ipython-input-134-035c807e6f28>:2: SettingWithCopyWarning: \n",
      "A value is trying to be set on a copy of a slice from a DataFrame.\n",
      "Try using .loc[row_indexer,col_indexer] = value instead\n",
      "\n",
      "See the caveats in the documentation: https://pandas.pydata.org/pandas-docs/stable/user_guide/indexing.html#returning-a-view-versus-a-copy\n",
      "  lab_2['dist_from_centroid'] = dist\n"
     ]
    }
   ],
   "source": [
    "# adding distance in lab_2 df\n",
    "lab_2['dist_from_centroid'] = dist\n",
    "lab_2.reset_index(drop=True,inplace=True)"
   ]
  },
  {
   "cell_type": "code",
   "execution_count": 137,
   "metadata": {},
   "outputs": [
    {
     "data": {
      "text/html": [
       "<div>\n",
       "<style scoped>\n",
       "    .dataframe tbody tr th:only-of-type {\n",
       "        vertical-align: middle;\n",
       "    }\n",
       "\n",
       "    .dataframe tbody tr th {\n",
       "        vertical-align: top;\n",
       "    }\n",
       "\n",
       "    .dataframe thead th {\n",
       "        text-align: right;\n",
       "    }\n",
       "</style>\n",
       "<table border=\"1\" class=\"dataframe\">\n",
       "  <thead>\n",
       "    <tr style=\"text-align: right;\">\n",
       "      <th></th>\n",
       "      <th>0</th>\n",
       "      <th>1</th>\n",
       "      <th>2</th>\n",
       "      <th>labels</th>\n",
       "      <th>has_ikea</th>\n",
       "      <th>name</th>\n",
       "      <th>dist_from_centroid</th>\n",
       "    </tr>\n",
       "  </thead>\n",
       "  <tbody>\n",
       "    <tr>\n",
       "      <th>0</th>\n",
       "      <td>1.822138</td>\n",
       "      <td>0.826915</td>\n",
       "      <td>0.626856</td>\n",
       "      <td>2</td>\n",
       "      <td>1</td>\n",
       "      <td>\"Kalmar\"</td>\n",
       "      <td>4.800619</td>\n",
       "    </tr>\n",
       "    <tr>\n",
       "      <th>1</th>\n",
       "      <td>2.545419</td>\n",
       "      <td>0.857841</td>\n",
       "      <td>0.874369</td>\n",
       "      <td>2</td>\n",
       "      <td>1</td>\n",
       "      <td>\"Karlstad\"</td>\n",
       "      <td>5.154627</td>\n",
       "    </tr>\n",
       "    <tr>\n",
       "      <th>2</th>\n",
       "      <td>2.404254</td>\n",
       "      <td>1.229357</td>\n",
       "      <td>0.426397</td>\n",
       "      <td>2</td>\n",
       "      <td>0</td>\n",
       "      <td>\"Järfälla\"</td>\n",
       "      <td>5.433279</td>\n",
       "    </tr>\n",
       "    <tr>\n",
       "      <th>3</th>\n",
       "      <td>3.511903</td>\n",
       "      <td>2.031754</td>\n",
       "      <td>0.086151</td>\n",
       "      <td>2</td>\n",
       "      <td>0</td>\n",
       "      <td>\"Huddinge\"</td>\n",
       "      <td>6.720239</td>\n",
       "    </tr>\n",
       "    <tr>\n",
       "      <th>4</th>\n",
       "      <td>2.243726</td>\n",
       "      <td>0.488822</td>\n",
       "      <td>2.339243</td>\n",
       "      <td>2</td>\n",
       "      <td>0</td>\n",
       "      <td>\"Täby\"</td>\n",
       "      <td>4.880159</td>\n",
       "    </tr>\n",
       "  </tbody>\n",
       "</table>\n",
       "</div>"
      ],
      "text/plain": [
       "          0         1         2  labels  has_ikea        name  \\\n",
       "0  1.822138  0.826915  0.626856       2         1    \"Kalmar\"   \n",
       "1  2.545419  0.857841  0.874369       2         1  \"Karlstad\"   \n",
       "2  2.404254  1.229357  0.426397       2         0  \"Järfälla\"   \n",
       "3  3.511903  2.031754  0.086151       2         0  \"Huddinge\"   \n",
       "4  2.243726  0.488822  2.339243       2         0      \"Täby\"   \n",
       "\n",
       "   dist_from_centroid  \n",
       "0            4.800619  \n",
       "1            5.154627  \n",
       "2            5.433279  \n",
       "3            6.720239  \n",
       "4            4.880159  "
      ]
     },
     "execution_count": 137,
     "metadata": {},
     "output_type": "execute_result"
    }
   ],
   "source": [
    "lab_2.head()"
   ]
  },
  {
   "cell_type": "code",
   "execution_count": null,
   "metadata": {},
   "outputs": [],
   "source": [
    "# sorting the values where ikea not present"
   ]
  },
  {
   "cell_type": "code",
   "execution_count": 142,
   "metadata": {},
   "outputs": [
    {
     "data": {
      "text/html": [
       "<div>\n",
       "<style scoped>\n",
       "    .dataframe tbody tr th:only-of-type {\n",
       "        vertical-align: middle;\n",
       "    }\n",
       "\n",
       "    .dataframe tbody tr th {\n",
       "        vertical-align: top;\n",
       "    }\n",
       "\n",
       "    .dataframe thead th {\n",
       "        text-align: right;\n",
       "    }\n",
       "</style>\n",
       "<table border=\"1\" class=\"dataframe\">\n",
       "  <thead>\n",
       "    <tr style=\"text-align: right;\">\n",
       "      <th></th>\n",
       "      <th>0</th>\n",
       "      <th>1</th>\n",
       "      <th>2</th>\n",
       "      <th>labels</th>\n",
       "      <th>has_ikea</th>\n",
       "      <th>name</th>\n",
       "      <th>dist_from_centroid</th>\n",
       "    </tr>\n",
       "  </thead>\n",
       "  <tbody>\n",
       "    <tr>\n",
       "      <th>24</th>\n",
       "      <td>1.220044</td>\n",
       "      <td>0.307817</td>\n",
       "      <td>0.791789</td>\n",
       "      <td>2</td>\n",
       "      <td>0</td>\n",
       "      <td>\"Kungsbacka\"</td>\n",
       "      <td>4.086285</td>\n",
       "    </tr>\n",
       "    <tr>\n",
       "      <th>12</th>\n",
       "      <td>1.471688</td>\n",
       "      <td>0.093728</td>\n",
       "      <td>-0.223121</td>\n",
       "      <td>2</td>\n",
       "      <td>0</td>\n",
       "      <td>\"Eskilstuna\"</td>\n",
       "      <td>4.149692</td>\n",
       "    </tr>\n",
       "    <tr>\n",
       "      <th>9</th>\n",
       "      <td>1.604189</td>\n",
       "      <td>-0.403977</td>\n",
       "      <td>3.099270</td>\n",
       "      <td>2</td>\n",
       "      <td>0</td>\n",
       "      <td>\"Solna\"</td>\n",
       "      <td>4.176930</td>\n",
       "    </tr>\n",
       "    <tr>\n",
       "      <th>21</th>\n",
       "      <td>1.379541</td>\n",
       "      <td>0.469048</td>\n",
       "      <td>0.247989</td>\n",
       "      <td>2</td>\n",
       "      <td>0</td>\n",
       "      <td>\"Kristianstad\"</td>\n",
       "      <td>4.348121</td>\n",
       "    </tr>\n",
       "    <tr>\n",
       "      <th>10</th>\n",
       "      <td>0.772029</td>\n",
       "      <td>0.183678</td>\n",
       "      <td>3.152375</td>\n",
       "      <td>2</td>\n",
       "      <td>0</td>\n",
       "      <td>\"Lidingö\"</td>\n",
       "      <td>4.416294</td>\n",
       "    </tr>\n",
       "  </tbody>\n",
       "</table>\n",
       "</div>"
      ],
      "text/plain": [
       "           0         1         2  labels  has_ikea            name  \\\n",
       "24  1.220044  0.307817  0.791789       2         0    \"Kungsbacka\"   \n",
       "12  1.471688  0.093728 -0.223121       2         0    \"Eskilstuna\"   \n",
       "9   1.604189 -0.403977  3.099270       2         0         \"Solna\"   \n",
       "21  1.379541  0.469048  0.247989       2         0  \"Kristianstad\"   \n",
       "10  0.772029  0.183678  3.152375       2         0       \"Lidingö\"   \n",
       "\n",
       "    dist_from_centroid  \n",
       "24            4.086285  \n",
       "12            4.149692  \n",
       "9             4.176930  \n",
       "21            4.348121  \n",
       "10            4.416294  "
      ]
     },
     "execution_count": 142,
     "metadata": {},
     "output_type": "execute_result"
    }
   ],
   "source": [
    "\n",
    "lab_2[lab_2['has_ikea'] == 0].sort_values('dist_from_centroid').head()"
   ]
  },
  {
   "cell_type": "code",
   "execution_count": 140,
   "metadata": {},
   "outputs": [
    {
     "data": {
      "text/html": [
       "<div>\n",
       "<style scoped>\n",
       "    .dataframe tbody tr th:only-of-type {\n",
       "        vertical-align: middle;\n",
       "    }\n",
       "\n",
       "    .dataframe tbody tr th {\n",
       "        vertical-align: top;\n",
       "    }\n",
       "\n",
       "    .dataframe thead th {\n",
       "        text-align: right;\n",
       "    }\n",
       "</style>\n",
       "<table border=\"1\" class=\"dataframe\">\n",
       "  <thead>\n",
       "    <tr style=\"text-align: right;\">\n",
       "      <th></th>\n",
       "      <th>0</th>\n",
       "      <th>1</th>\n",
       "      <th>2</th>\n",
       "      <th>labels</th>\n",
       "      <th>has_ikea</th>\n",
       "      <th>name</th>\n",
       "    </tr>\n",
       "  </thead>\n",
       "  <tbody>\n",
       "    <tr>\n",
       "      <th>19</th>\n",
       "      <td>27.36224</td>\n",
       "      <td>-1.728776</td>\n",
       "      <td>-3.542441</td>\n",
       "      <td>1</td>\n",
       "      <td>1</td>\n",
       "      <td>\"Stockholm\"</td>\n",
       "    </tr>\n",
       "  </tbody>\n",
       "</table>\n",
       "</div>"
      ],
      "text/plain": [
       "           0         1         2  labels  has_ikea         name\n",
       "19  27.36224 -1.728776 -3.542441       1         1  \"Stockholm\""
      ]
     },
     "execution_count": 140,
     "metadata": {},
     "output_type": "execute_result"
    }
   ],
   "source": [
    "# cosidering the label 1 cluster\n",
    "\n",
    "lab_1.head()"
   ]
  },
  {
   "cell_type": "code",
   "execution_count": null,
   "metadata": {},
   "outputs": [],
   "source": []
  }
 ],
 "metadata": {
  "kernelspec": {
   "display_name": "Python 3",
   "language": "python",
   "name": "python3"
  },
  "language_info": {
   "codemirror_mode": {
    "name": "ipython",
    "version": 3
   },
   "file_extension": ".py",
   "mimetype": "text/x-python",
   "name": "python",
   "nbconvert_exporter": "python",
   "pygments_lexer": "ipython3",
   "version": "3.8.3"
  }
 },
 "nbformat": 4,
 "nbformat_minor": 4
}
